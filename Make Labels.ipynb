{
 "cells": [
  {
   "cell_type": "code",
   "execution_count": 1,
   "id": "e5d16f40",
   "metadata": {},
   "outputs": [],
   "source": [
    "import numpy as np\n",
    "import matplotlib.pyplot as plt\n",
    "from sklearn.model_selection import train_test_split\n",
    "# importing os module \n",
    "import os\n",
    "# Imports PIL module \n",
    "from PIL import Image # for grabbing images\n",
    "from itertools import chain #for target labels \n",
    "from pathlib import Path\n",
    "import seaborn as sns\n",
    "import cv2"
   ]
  },
  {
   "cell_type": "code",
   "execution_count": 2,
   "id": "09a8ef40",
   "metadata": {},
   "outputs": [
    {
     "name": "stdout",
     "output_type": "stream",
     "text": [
      "find: illegal option -- t\r\n",
      "usage: find [-H | -L | -P] [-EXdsx] [-f path] path ... [expression]\r\n",
      "       find [-H | -L | -P] [-EXdsx] -f path [path ...] [expression]\r\n"
     ]
    }
   ],
   "source": [
    "rm -rf `find -type d -name .ipynb_checkpoints`"
   ]
  },
  {
   "cell_type": "code",
   "execution_count": 3,
   "id": "73fb0dd5",
   "metadata": {},
   "outputs": [
    {
     "name": "stdout",
     "output_type": "stream",
     "text": [
      "Number of classes in total:\n",
      "\n",
      "15\n",
      "\n",
      "Terrain Classes:\n",
      "\n",
      "['Airport', 'BareLand', 'Beach', 'Bridge', 'Commercial', 'DenseResidential', 'Desert', 'Forest', 'Industrial', 'Mountain', 'Parking', 'River', 'School', 'SparseResidential', 'Stadium']\n",
      "(5160, 50, 50, 3)\n"
     ]
    }
   ],
   "source": [
    "save_data=True;\n",
    "if save_data==True:\n",
    "    path_of_input_image_classes=\"/Users/michellelorini/Pattern Recognition/AID\"\n",
    "    class_names = os.listdir(path_of_input_image_classes) \n",
    "    class_names = [i for i in class_names if i != '.DS_Store'] # Gave me an extraneous class, delete it if it appears\n",
    "    num_of_output_classes=len(class_names);\n",
    "    print('Number of classes in total:\\n')\n",
    "    print(num_of_output_classes);\n",
    "    class_names.sort()\n",
    "    print('\\nTerrain Classes:\\n')\n",
    "    print(class_names)\n",
    "    num_of_images_in_classes = []\n",
    "    all_images = []\n",
    "\n",
    "    for dir in class_names:\n",
    "        filenames = os.listdir(os.path.join(path_of_input_image_classes,dir))\n",
    "        num_of_images_in_classes.append(len(filenames)) # Stores length of each class\n",
    "        for file in filenames:\n",
    "            image = Image.open(os.path.join(path_of_input_image_classes, dir, file))\n",
    "            image = cv2.imread(os.path.join(path_of_input_image_classes, dir, file))\n",
    "            image = cv2.resize(image,(50,50))\n",
    "            all_images.append(image)\n",
    "\n",
    "\n",
    "    Images=np.array(all_images) # this is 10,000 images x pixel num x pixel num x RGB val(3)\n",
    "    print(Images.shape)\n",
    "\n",
    "\n",
    "    # Make target labels\n",
    "    target_labels=[];\n",
    "    class_label=0;\n",
    "    for i in range(num_of_output_classes): # 0 to 29 \n",
    "        num_of_images_current_class=num_of_images_in_classes[i]\n",
    "        append_num=[class_label] * num_of_images_current_class\n",
    "        target_labels.append(append_num)\n",
    "        class_label=class_label+1\n",
    "    target_labels = list(chain.from_iterable(target_labels))\n",
    "    target_labels=np.array(target_labels)\n",
    "\n",
    "\n",
    "    # Split into training and testing \n",
    "    X_train, X_test,t_train, t_test = train_test_split(Images,target_labels,\n",
    "                                       random_state=104, \n",
    "                                       test_size=0.20, \n",
    "                                       shuffle=True)\n",
    "    X_train.shape, X_test.shape, t_train.shape, t_test.shape\n",
    "    \n",
    "    np.save(\"train_data.npy\",X_train)\n",
    "    np.save(\"train_label.npy\",t_train)\n",
    "    np.save(\"test_data.npy\",X_test)\n",
    "    np.save(\"test_labels.npy\",t_test)"
   ]
  },
  {
   "cell_type": "code",
   "execution_count": null,
   "id": "baeddc58",
   "metadata": {},
   "outputs": [],
   "source": []
  },
  {
   "cell_type": "code",
   "execution_count": null,
   "id": "69fa4c37",
   "metadata": {},
   "outputs": [],
   "source": []
  }
 ],
 "metadata": {
  "kernelspec": {
   "display_name": "Python 3 (ipykernel)",
   "language": "python",
   "name": "python3"
  },
  "language_info": {
   "codemirror_mode": {
    "name": "ipython",
    "version": 3
   },
   "file_extension": ".py",
   "mimetype": "text/x-python",
   "name": "python",
   "nbconvert_exporter": "python",
   "pygments_lexer": "ipython3",
   "version": "3.9.7"
  }
 },
 "nbformat": 4,
 "nbformat_minor": 5
}
