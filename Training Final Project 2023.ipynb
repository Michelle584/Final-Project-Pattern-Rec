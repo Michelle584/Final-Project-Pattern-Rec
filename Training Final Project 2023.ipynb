{
 "cells": [
  {
   "cell_type": "code",
   "execution_count": 32,
   "id": "06704925",
   "metadata": {},
   "outputs": [],
   "source": [
    "import numpy as np\n",
    "import matplotlib.pyplot as plt\n",
    "from sklearn.model_selection import train_test_split\n",
    "import cv2\n",
    "import warnings\n",
    "# importing os module \n",
    "import os\n",
    "# Imports PIL module \n",
    "from keras.models import Model\n",
    "from PIL import Image # for grabbing images\n",
    "import tensorflow as tf\n",
    "from itertools import chain #for target labels \n",
    "import keras\n",
    "from keras.utils import np_utils\n",
    "from keras.applications.vgg16 import VGG16\n",
    "from keras.layers import Dense, Activation, Convolution2D, MaxPooling2D, Flatten, Dropout\n",
    "from tensorflow.keras.optimizers import Adam\n",
    "from pathlib import Path\n",
    "import seaborn as sns\n",
    "import pandas as pd\n",
    "from sklearn.metrics import confusion_matrix\n",
    "warnings.filterwarnings(\"ignore\")"
   ]
  },
  {
   "cell_type": "code",
   "execution_count": 11,
   "id": "5f19dd2b",
   "metadata": {},
   "outputs": [],
   "source": [
    "rm -rf `find -type d -name .ipynb_checkpoints`"
   ]
  },
  {
   "cell_type": "code",
   "execution_count": 12,
   "id": "6b2109ba",
   "metadata": {
    "scrolled": true
   },
   "outputs": [
    {
     "name": "stdout",
     "output_type": "stream",
     "text": [
      "Number of classes in total:\n",
      "\n",
      "3\n",
      "\n",
      "Terrain Classes:\n",
      "\n",
      "['Airport', 'BareLand', 'BaseballField']\n"
     ]
    }
   ],
   "source": [
    "# Grab all images \n",
    "\n",
    "path_of_input_image_classes=\"AID\"\n",
    "class_names = os.listdir(path_of_input_image_classes) \n",
    "class_names = [i for i in class_names if i != '.DS_Store'] # Gave me an extraneous class, delete it if it appears\n",
    "num_of_output_classes=len(class_names);\n",
    "print('Number of classes in total:\\n')\n",
    "print(num_of_output_classes);\n",
    "class_names.sort()\n",
    "print('\\nTerrain Classes:\\n')\n",
    "print(class_names)\n",
    "num_of_images_in_classes = []\n",
    "all_images = []\n",
    "\n",
    "for dir in class_names:\n",
    "    filenames = os.listdir(os.path.join(path_of_input_image_classes,dir))\n",
    "    num_of_images_in_classes.append(len(filenames)) # Stores length of each class\n",
    "    for file in filenames:\n",
    "        image = Image.open(os.path.join(path_of_input_image_classes, dir, file))\n",
    "        image = cv2.imread(os.path.join(path_of_input_image_classes, dir, file))\n",
    "        image = cv2.resize(image,(214,214))\n",
    "        all_images.append(image)"
   ]
  },
  {
   "cell_type": "code",
   "execution_count": 13,
   "id": "574cc7b2",
   "metadata": {},
   "outputs": [
    {
     "name": "stdout",
     "output_type": "stream",
     "text": [
      "(845, 214, 214, 3)\n"
     ]
    }
   ],
   "source": [
    "Images=np.array(all_images) # this is 10,000 images x pixel num x pixel num x RGB val(3)\n",
    "print(Images.shape)"
   ]
  },
  {
   "cell_type": "code",
   "execution_count": 14,
   "id": "c8ecbec4",
   "metadata": {},
   "outputs": [],
   "source": [
    "# Make target labels\n",
    "target_labels=[];\n",
    "class_label=0;\n",
    "for i in range(num_of_output_classes): # 0 to 29 \n",
    "    num_of_images_current_class=num_of_images_in_classes[i]\n",
    "    append_num=[class_label] * num_of_images_current_class\n",
    "    target_labels.append(append_num)\n",
    "    class_label=class_label+1\n",
    "target_labels = list(chain.from_iterable(target_labels))\n",
    "target_labels=np.array(target_labels)"
   ]
  },
  {
   "cell_type": "code",
   "execution_count": 15,
   "id": "25fa780e-a675-456e-ba39-d6dcd311aa08",
   "metadata": {},
   "outputs": [
    {
     "data": {
      "text/plain": [
       "((676, 214, 214, 3), (169, 214, 214, 3), (676,), (169,))"
      ]
     },
     "execution_count": 15,
     "metadata": {},
     "output_type": "execute_result"
    }
   ],
   "source": [
    "# Split into training and testing \n",
    "X_train, X_test,t_train, t_test = train_test_split(Images,target_labels,\n",
    "                                   random_state=104, \n",
    "                                   test_size=0.20, \n",
    "                                   shuffle=True)\n",
    "X_train.shape, X_test.shape, t_train.shape, t_test.shape"
   ]
  },
  {
   "cell_type": "code",
   "execution_count": 16,
   "id": "8a137f5c",
   "metadata": {},
   "outputs": [],
   "source": [
    "def train_transfer_learning_CNN(data_train, labels_train, img_size=214, epochs=5, learning_rate=1e-4):\n",
    "    \n",
    "    # load data and labels\n",
    "    #data_train = np.load(data_train_path)\n",
    "    #labels_train_temp = np.load(labels_train_path)\n",
    "    \n",
    "    # preprocessing\n",
    "    #gray_scaled=Invert_gray_scale(data_train,300) #Converts all 300x300 images to grey scale\n",
    "    \n",
    "    #dilated_data=Dilation(gray_scaled,300) # Dilates all 300x300 images\n",
    "    \n",
    "    #bkg_removed_matrix=Remove_bkg_noise(dilated_data,300) #Removes background from 300x300 images\n",
    "    \n",
    "    #resized_matrix=resize(bkg_removed_matrix,img_size) #Resizes to img_size x img_size\n",
    " \n",
    "    \n",
    "    # Normalize data\n",
    "    X_train = data_train/255 #normalize data [0,1] \n",
    "    labels_train = np_utils.to_categorical(labels_train, num_classes=3)\n",
    "    \n",
    "    # specify a new input shape to replace VGG16 input layer for our data\n",
    "    new_input = (img_size, img_size, 3)\n",
    "    \n",
    "    # load model\n",
    "    model = VGG16(include_top=False, input_shape=new_input, pooling='max')\n",
    "    \n",
    "    #remove output layer to replace with new one to allow for classification of the 3 classes instead of the original VGG16\n",
    "    # classification \n",
    "    flat1 = Flatten()(model.layers[-1].output) # remove output layer\n",
    "    class1 = Dense(1024, activation='relu')(flat1) # new dense layer\n",
    "    output = Dense(3, activation='softmax')(class1) # for 3 classes\n",
    "    \n",
    "    # define new model\n",
    "    model = Model(inputs=model.inputs, outputs=output)\n",
    "    \n",
    "    # print summary of model\n",
    "    model.summary()\n",
    "\n",
    "    # set Adam learning rate\n",
    "    adam = Adam(lr=learning_rate)\n",
    "\n",
    "    # We add metrics to get more results you want to see\n",
    "    model.compile(optimizer=adam,\n",
    "                  loss='categorical_crossentropy',\n",
    "                  metrics=['accuracy'])\n",
    "\n",
    "    # fit model\n",
    "    print('Training ------------')\n",
    "    history = model.fit(X_train,labels_train, epochs=epochs)\n",
    "                \n",
    "    # plot training accuracy\n",
    "    plt.plot(history.history['accuracy'])\n",
    "    plt.title('Model Accuracy')\n",
    "    plt.ylabel('Accuracy')\n",
    "    plt.xlabel('Epochs')\n",
    "    plt.legend(['Training'], loc='upper left')\n",
    "    plt.show()\n",
    "\n",
    "    # save trained VGG16 CNN model\n",
    "    model.save('vgg16_trained_cnn.hdf5')"
   ]
  },
  {
   "cell_type": "code",
   "execution_count": 17,
   "id": "29f0a56e-0fd6-46c8-b2c4-1b417a966e35",
   "metadata": {},
   "outputs": [
    {
     "name": "stdout",
     "output_type": "stream",
     "text": [
      "[1 1 0 0 1 1 0 0 2 0 1 1 2 0 2 0 1 1 1 0 1 1 2 0 0 1 2 2 0 1 1 0 1 0 2 1 2\n",
      " 0 1 2 1 1 1 1 1 2 1 1 1 0 1 1 0 1 1 0 1 2 1 2 0 2 2 1 2 1 1 2 0 2 0 1 2 1\n",
      " 2 1 0 0 1 0 1 2 1 1 0 2 1 1 0 0 1 2 0 0 2 2 0 0 0 1 1 1 1 2 1 2 0 1 0 0 0\n",
      " 0 0 2 0 2 2 2 1 1 1 1 1 1 2 1 0 2 0 1 2 2 2 2 0 2 0 2 2 0 1 0 1 0 1 2 2 0\n",
      " 2 0 0 1 0 1 2 1 1 0 0 1 0 0 2 1 0 1 0 1 2 2 1 2 1 2 2 2 1 1 1 2 1 1 0 1 2\n",
      " 0 1 0 0 1 0 0 0 1 2 1 2 1 1 0 2 0 0 0 1 0 1 1 1 0 1 0 2 2 0 0 0 0 1 0 0 0\n",
      " 0 1 1 1 1 1 1 0 1 1 1 0 1 2 1 2 1 1 1 1 1 2 2 0 0 0 0 1 0 0 1 0 0 1 0 1 0\n",
      " 0 1 1 0 2 2 0 2 1 1 2 2 0 2 0 0 0 0 1 0 0 2 2 0 1 1 2 0 1 2 1 1 0 1 1 2 2\n",
      " 0 0 0 2 1 0 1 1 0 2 0 1 2 1 1 2 1 2 0 2 0 1 1 0 0 0 2 0 1 1 1 1 2 2 0 0 2\n",
      " 0 0 0 0 1 2 2 1 2 0 0 2 0 1 0 1 1 2 2 1 2 2 2 1 2 2 0 0 0 1 1 1 0 1 1 1 2\n",
      " 2 2 1 0 0 0 1 2 0 2 2 1 1 0 1 0 0 2 2 1 0 0 1 0 1 2 0 1 0 1 1 2 0 2 0 2 0\n",
      " 1 2 1 2 1 1 1 0 1 1 0 1 0 2 2 2 1 1 0 1 2 2 0 2 0 2 1 0 0 0 2 0 0 1 1 1 0\n",
      " 1 1 1 0 0 2 0 0 2 1 2 2 0 0 1 1 2 0 0 1 0 2 1 0 0 0 1 2 0 2 0 0 2 0 0 2 2\n",
      " 1 1 0 2 2 0 0 1 1 2 0 2 0 2 1 0 1 1 1 2 1 0 1 2 1 0 0 1 1 1 0 0 1 0 1 0 2\n",
      " 2 1 0 0 2 0 1 1 0 0 2 1 0 0 2 2 0 1 0 1 1 1 0 1 2 0 1 1 0 0 1 2 0 0 1 2 1\n",
      " 0 0 0 0 0 0 0 0 1 2 2 1 2 0 0 0 0 2 2 0 0 1 0 1 2 2 1 0 2 0 0 2 1 0 0 1 1\n",
      " 2 1 0 2 0 2 0 1 1 0 0 2 0 2 1 1 0 1 1 0 0 0 0 1 0 1 0 0 2 0 2 2 2 0 1 0 1\n",
      " 2 2 0 1 1 2 0 1 0 1 2 1 0 2 2 2 1 1 0 2 0 1 2 0 0 2 1 2 1 1 0 2 2 1 1 2 0\n",
      " 1 1 2 0 0 2 0 2 2 0]\n",
      "Model: \"model_1\"\n",
      "_________________________________________________________________\n",
      " Layer (type)                Output Shape              Param #   \n",
      "=================================================================\n",
      " input_2 (InputLayer)        [(None, 214, 214, 3)]     0         \n",
      "                                                                 \n",
      " block1_conv1 (Conv2D)       (None, 214, 214, 64)      1792      \n",
      "                                                                 \n",
      " block1_conv2 (Conv2D)       (None, 214, 214, 64)      36928     \n",
      "                                                                 \n",
      " block1_pool (MaxPooling2D)  (None, 107, 107, 64)      0         \n",
      "                                                                 \n",
      " block2_conv1 (Conv2D)       (None, 107, 107, 128)     73856     \n",
      "                                                                 \n",
      " block2_conv2 (Conv2D)       (None, 107, 107, 128)     147584    \n",
      "                                                                 \n",
      " block2_pool (MaxPooling2D)  (None, 53, 53, 128)       0         \n",
      "                                                                 \n",
      " block3_conv1 (Conv2D)       (None, 53, 53, 256)       295168    \n",
      "                                                                 \n",
      " block3_conv2 (Conv2D)       (None, 53, 53, 256)       590080    \n",
      "                                                                 \n",
      " block3_conv3 (Conv2D)       (None, 53, 53, 256)       590080    \n",
      "                                                                 \n",
      " block3_pool (MaxPooling2D)  (None, 26, 26, 256)       0         \n",
      "                                                                 \n",
      " block4_conv1 (Conv2D)       (None, 26, 26, 512)       1180160   \n",
      "                                                                 \n",
      " block4_conv2 (Conv2D)       (None, 26, 26, 512)       2359808   \n",
      "                                                                 \n",
      " block4_conv3 (Conv2D)       (None, 26, 26, 512)       2359808   \n",
      "                                                                 \n",
      " block4_pool (MaxPooling2D)  (None, 13, 13, 512)       0         \n",
      "                                                                 \n",
      " block5_conv1 (Conv2D)       (None, 13, 13, 512)       2359808   \n",
      "                                                                 \n",
      " block5_conv2 (Conv2D)       (None, 13, 13, 512)       2359808   \n",
      "                                                                 \n",
      " block5_conv3 (Conv2D)       (None, 13, 13, 512)       2359808   \n",
      "                                                                 \n",
      " block5_pool (MaxPooling2D)  (None, 6, 6, 512)         0         \n",
      "                                                                 \n",
      " global_max_pooling2d_1 (Glo  (None, 512)              0         \n",
      " balMaxPooling2D)                                                \n",
      "                                                                 \n",
      " flatten_1 (Flatten)         (None, 512)               0         \n",
      "                                                                 \n",
      " dense_2 (Dense)             (None, 1024)              525312    \n",
      "                                                                 \n",
      " dense_3 (Dense)             (None, 3)                 3075      \n",
      "                                                                 \n",
      "=================================================================\n",
      "Total params: 15,243,075\n",
      "Trainable params: 15,243,075\n",
      "Non-trainable params: 0\n",
      "_________________________________________________________________\n",
      "Training ------------\n",
      "Epoch 1/5\n",
      "22/22 [==============================] - 2s 45ms/step - loss: 0.4523 - accuracy: 0.8180\n",
      "Epoch 2/5\n",
      "22/22 [==============================] - 1s 44ms/step - loss: 0.0778 - accuracy: 0.9719\n",
      "Epoch 3/5\n",
      "22/22 [==============================] - 1s 44ms/step - loss: 0.0608 - accuracy: 0.9778\n",
      "Epoch 4/5\n",
      "22/22 [==============================] - 1s 44ms/step - loss: 0.0466 - accuracy: 0.9793\n",
      "Epoch 5/5\n",
      "22/22 [==============================] - 1s 44ms/step - loss: 0.0170 - accuracy: 0.9911\n"
     ]
    },
    {
     "data": {
      "image/png": "[encoded data removed]",
      "text/plain": [
       "<Figure size 432x288 with 1 Axes>"
      ]
     },
     "metadata": {
      "needs_background": "light"
     },
     "output_type": "display_data"
    }
   ],
   "source": [
    "# train VGG16 CNN\n",
    "train_transfer_learning_CNN(X_train,t_train, img_size=214, epochs=5, learning_rate=1e-4)"
   ]
  },
  {
   "cell_type": "code",
   "execution_count": 33,
   "id": "cc92419b-6061-45b5-8743-609f861e2492",
   "metadata": {},
   "outputs": [],
   "source": [
    "def conf_matrix_w_acc(y_test, labels):\n",
    "    # Evaluate trained model in validation set\n",
    "    cm = confusion_matrix(y_test, labels)\n",
    "    acc =np.diagonal(cm).sum()/ cm.sum()\n",
    "    # acc = accuracy_score(y_test,labels)\n",
    "    fig, ax = plt.subplots()\n",
    "    tick_marks = np.arange(len(class_names))\n",
    "    plt.xticks(tick_marks, class_names)\n",
    "    plt.yticks(tick_marks, class_names)\n",
    "    # create heatmap\n",
    "    sns.heatmap(pd.DataFrame(cm), annot=True ,fmt='g', xticklabels = class_names, yticklabels = class_names)\n",
    "    ax.xaxis.set_label_position(\"top\")\n",
    "    plt.tight_layout()\n",
    "    plt.title('Confusion Matrix (Accuracy = %f)' % acc, y=1.1)\n",
    "    plt.ylabel('Actual label')\n",
    "    plt.xlabel('Predicted label')"
   ]
  },
  {
   "cell_type": "code",
   "execution_count": 34,
   "id": "14cd71d8-88e3-4c3a-9b8e-c406e71d8a4d",
   "metadata": {},
   "outputs": [],
   "source": [
    "def test(X_test,labels_test,model_name='vgg16_trained_cnn.hdf5',resized_pixel_size=214): \n",
    "        #Get Test Data Information, mainly for clarification on our end \n",
    "    \n",
    " \n",
    "        #Reshpaing for input into model \n",
    "        X_test = X_test/255.\n",
    "        \n",
    "        #Setting up labels for keras model\n",
    "        labels_test_model = np_utils.to_categorical(labels_test, num_classes=3)\n",
    "\n",
    "        # Loads trained model \n",
    "        model = keras.models.load_model(model_name)\n",
    "\n",
    "        #Can print model summary for illustration purposes\n",
    "        #print(model.summary())\n",
    "\n",
    "        #Evaluating model on test data \n",
    "        loss,accuracy=model.evaluate(X_test,labels_test_model)\n",
    "\n",
    "        #Generates probability matrix of label assignment \n",
    "        y_proba = model.predict(X_test)\n",
    "\n",
    "        #Grabs largest probability for each photo belonging to a certain class \n",
    "        y_classes = np.argmax(y_proba,axis=1)\n",
    "\n",
    "        #Prints confustion matrix \n",
    "        print(conf_matrix_w_acc(labels_test, y_classes))\n",
    "        \n",
    "        return accuracy,y_classes"
   ]
  },
  {
   "cell_type": "code",
   "execution_count": 35,
   "id": "9a78ea78-ead8-482b-bd29-0f95945f7747",
   "metadata": {},
   "outputs": [
    {
     "name": "stdout",
     "output_type": "stream",
     "text": [
      "6/6 [==============================] - 0s 16ms/step - loss: 0.0631 - accuracy: 0.9822\n",
      "None\n"
     ]
    },
    {
     "data": {
      "text/plain": [
       "(0.9822485446929932,\n",
       " array([1, 1, 0, 1, 0, 1, 1, 1, 1, 0, 1, 1, 0, 2, 1, 1, 0, 2, 2, 0, 2, 0,\n",
       "        1, 0, 1, 2, 2, 2, 0, 0, 2, 0, 1, 1, 1, 1, 1, 2, 0, 1, 1, 1, 1, 2,\n",
       "        0, 1, 2, 2, 0, 2, 0, 1, 0, 0, 1, 0, 2, 1, 1, 0, 0, 0, 1, 2, 1, 0,\n",
       "        0, 1, 0, 0, 0, 1, 1, 1, 0, 0, 0, 2, 1, 1, 1, 0, 2, 0, 0, 1, 0, 2,\n",
       "        2, 1, 0, 0, 1, 0, 0, 2, 0, 2, 0, 2, 0, 1, 0, 0, 2, 2, 1, 1, 2, 1,\n",
       "        2, 2, 2, 0, 1, 0, 0, 1, 0, 2, 0, 1, 2, 1, 0, 0, 0, 2, 2, 1, 0, 1,\n",
       "        1, 0, 2, 0, 0, 1, 0, 1, 0, 1, 1, 0, 2, 0, 0, 0, 0, 2, 0, 1, 2, 1,\n",
       "        1, 0, 2, 2, 2, 1, 2, 1, 0, 0, 0, 1, 1, 2, 0]))"
      ]
     },
     "execution_count": 35,
     "metadata": {},
     "output_type": "execute_result"
    },
    {
     "data": {
      "image/png": "[encoded data removed]",
      "text/plain": [
       "<Figure size 432x288 with 2 Axes>"
      ]
     },
     "metadata": {
      "needs_background": "light"
     },
     "output_type": "display_data"
    }
   ],
   "source": [
    "test(X_test,t_test,model_name='vgg16_trained_cnn.hdf5',resized_pixel_size=214)"
   ]
  },
  {
   "cell_type": "code",
   "execution_count": null,
   "id": "0aebd778-7a6c-4aa6-8c36-531b10c4922d",
   "metadata": {},
   "outputs": [],
   "source": []
  }
 ],
 "metadata": {
  "kernelspec": {
   "display_name": "Tensorflow-2.7.0",
   "language": "python",
   "name": "tensorflow-2.7.0"
  },
  "language_info": {
   "codemirror_mode": {
    "name": "ipython",
    "version": 3
   },
   "file_extension": ".py",
   "mimetype": "text/x-python",
   "name": "python",
   "nbconvert_exporter": "python",
   "pygments_lexer": "ipython3",
   "version": "3.9.12"
  }
 },
 "nbformat": 4,
 "nbformat_minor": 5
}
