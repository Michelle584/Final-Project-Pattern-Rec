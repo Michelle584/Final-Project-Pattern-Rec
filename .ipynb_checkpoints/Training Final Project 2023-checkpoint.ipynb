{
 "cells": [
  {
   "cell_type": "code",
   "execution_count": 1,
   "id": "06704925",
   "metadata": {},
   "outputs": [],
   "source": [
    "import numpy as np\n",
    "from sklearn.model_selection import train_test_split\n",
    "import cv2\n",
    "# importing os module \n",
    "import os\n",
    "# Imports PIL module \n",
    "from PIL import Image # for grabbing images\n",
    "from itertools import chain #for target labels "
   ]
  },
  {
   "cell_type": "code",
   "execution_count": 2,
   "id": "5f19dd2b",
   "metadata": {},
   "outputs": [
    {
     "name": "stdout",
     "output_type": "stream",
     "text": [
      "Number of classes in total:\n",
      "\n",
      "30\n",
      "\n",
      "Terrain Classes:\n",
      "\n",
      "['Airport', 'BareLand', 'BaseballField', 'Beach', 'Bridge', 'Center', 'Church', 'Commercial', 'DenseResidential', 'Desert', 'Farmland', 'Forest', 'Industrial', 'Meadow', 'MediumResidential', 'Mountain', 'Park', 'Parking', 'Playground', 'Pond', 'Port', 'RailwayStation', 'Resort', 'River', 'School', 'SparseResidential', 'Square', 'Stadium', 'StorageTanks', 'Viaduct']\n"
     ]
    }
   ],
   "source": [
    "path_of_input_image_classes='/Users/michellelorini/Desktop/AID'\n",
    "class_names = os.listdir(path_of_input_image_classes) \n",
    "class_names = [i for i in class_names if i != '.DS_Store'] # Gave me an extraneous class, delete it if it appears\n",
    "num_of_output_classes=len(class_names);\n",
    "print('Number of classes in total:\\n')\n",
    "print(num_of_output_classes);\n",
    "class_names.sort()\n",
    "print('\\nTerrain Classes:\\n')\n",
    "print(class_names)"
   ]
  },
  {
   "cell_type": "code",
   "execution_count": 3,
   "id": "6b2109ba",
   "metadata": {
    "scrolled": true
   },
   "outputs": [
    {
     "name": "stderr",
     "output_type": "stream",
     "text": [
      "Corrupt JPEG data: premature end of data segment\n"
     ]
    }
   ],
   "source": [
    "# Grab all images \n",
    "num_of_images_in_classes = []\n",
    "all_images = []\n",
    "\n",
    "for dir in class_names:\n",
    "    filenames = os.listdir(os.path.join(path_of_input_image_classes,dir))\n",
    "    num_of_images_in_classes.append(len(filenames)) # Stores length of each class\n",
    "    for file in filenames:\n",
    "        image = Image.open(os.path.join(path_of_input_image_classes, dir, file))\n",
    "        image = cv2.imread(os.path.join(path_of_input_image_classes, dir, file))\n",
    "        image = cv2.resize(image,(100,100))\n",
    "        all_images.append(image)"
   ]
  },
  {
   "cell_type": "code",
   "execution_count": 4,
   "id": "574cc7b2",
   "metadata": {},
   "outputs": [],
   "source": [
    "Images=np.array(all_images) # this is 10,000 images x pixel num x pixel num x RGB val(3)"
   ]
  },
  {
   "cell_type": "code",
   "execution_count": 5,
   "id": "c8ecbec4",
   "metadata": {},
   "outputs": [
    {
     "name": "stdout",
     "output_type": "stream",
     "text": [
      "(10000,)\n"
     ]
    }
   ],
   "source": [
    "# Make target labels\n",
    "target_labels=[];\n",
    "class_label=1;\n",
    "for i in range(num_of_output_classes): # 0 to 29 \n",
    "    num_of_images_current_class=num_of_images_in_classes[i]\n",
    "    append_num=[class_label] * num_of_images_current_class\n",
    "    target_labels.append(append_num)\n",
    "    class_label=class_label+1\n",
    "target_labels = list(chain.from_iterable(target_labels))\n",
    "target_labels=np.array(target_labels)\n",
    "print(target_labels.shape)"
   ]
  },
  {
   "cell_type": "code",
   "execution_count": null,
   "id": "8a137f5c",
   "metadata": {},
   "outputs": [],
   "source": []
  }
 ],
 "metadata": {
  "kernelspec": {
   "display_name": "Python 3 (ipykernel)",
   "language": "python",
   "name": "python3"
  },
  "language_info": {
   "codemirror_mode": {
    "name": "ipython",
    "version": 3
   },
   "file_extension": ".py",
   "mimetype": "text/x-python",
   "name": "python",
   "nbconvert_exporter": "python",
   "pygments_lexer": "ipython3",
   "version": "3.9.7"
  }
 },
 "nbformat": 4,
 "nbformat_minor": 5
}
