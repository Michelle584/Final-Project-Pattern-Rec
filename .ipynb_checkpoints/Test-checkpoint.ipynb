{
 "cells": [
  {
   "cell_type": "code",
   "execution_count": 1,
   "id": "41ae49cf-d6b1-41e1-b696-315bead4e62a",
   "metadata": {},
   "outputs": [
    {
     "name": "stderr",
     "output_type": "stream",
     "text": [
      "2023-03-29 19:16:44.237879: I tensorflow/core/platform/cpu_feature_guard.cc:193] This TensorFlow binary is optimized with oneAPI Deep Neural Network Library (oneDNN) to use the following CPU instructions in performance-critical operations:  SSE4.1 SSE4.2 AVX AVX2 FMA\n",
      "To enable them in other operations, rebuild TensorFlow with the appropriate compiler flags.\n"
     ]
    }
   ],
   "source": [
    "import numpy as np\n",
    "import matplotlib.pyplot as plt\n",
    "import warnings\n",
    "from keras.models import Model\n",
    "from itertools import chain #for target labels \n",
    "from keras.utils import np_utils\n",
    "import seaborn as sns\n",
    "import pandas as pd\n",
    "import tensorflow\n",
    "from tensorflow.keras.models import load_model\n",
    "from sklearn.metrics import confusion_matrix\n",
    "from tensorflow.keras.applications.vgg16 import preprocess_input\n",
    "warnings.filterwarnings(\"ignore\")"
   ]
  },
  {
   "cell_type": "code",
   "execution_count": 2,
   "id": "d219ce06-1f2a-457e-a3eb-81acef4433d6",
   "metadata": {},
   "outputs": [
    {
     "name": "stdout",
     "output_type": "stream",
     "text": [
      "12\n"
     ]
    }
   ],
   "source": [
    "X_test=np.load(\"test_data.npy\");\n",
    "t_test=np.load(\"test_labels.npy\");\n",
    "num_of_output_classes=len(np.unique(t_test))\n",
    "print(num_of_output_classes)\n",
    "X_test=tensorflow.keras.applications.vgg16.preprocess_input(X_test, data_format=None);"
   ]
  },
  {
   "cell_type": "code",
   "execution_count": 3,
   "id": "67035b78-379b-44b6-8799-ad63dbb6ded8",
   "metadata": {},
   "outputs": [],
   "source": [
    "class_names=[\"Airport\",\"Beach\",\"Bridge\",\"Dense Residental\",\"Desert\",\"Forest\",\n",
    "             \"Industrial\",\"Mountain\",\"Parking\",\"River\",\"Sparse_Residental\",\"Stadium\"]"
   ]
  },
  {
   "cell_type": "code",
   "execution_count": 4,
   "id": "59050d87-0ca0-4d0e-ba45-65223e22b02f",
   "metadata": {},
   "outputs": [],
   "source": [
    "def conf_matrix_w_acc(y_test, labels):\n",
    "    # Evaluate trained model in validation set\n",
    "    cm = confusion_matrix(y_test, labels)\n",
    "    acc =np.diagonal(cm).sum()/ cm.sum()\n",
    "    # acc = accuracy_score(y_test,labels)\n",
    "    fig, ax = plt.subplots()\n",
    "    tick_marks = np.arange(len(class_names))\n",
    "    plt.xticks(tick_marks, class_names)\n",
    "    plt.yticks(tick_marks, class_names)\n",
    "    # create heatmap\n",
    "    sns.heatmap(pd.DataFrame(cm), annot=True ,fmt='g', xticklabels = class_names, yticklabels = class_names)\n",
    "    ax.xaxis.set_label_position(\"top\")\n",
    "    plt.tight_layout()\n",
    "    plt.title('Confusion Matrix (Accuracy = %f)' % acc, y=1.1)\n",
    "    plt.ylabel('Actual label')\n",
    "    plt.xlabel('Predicted label')"
   ]
  },
  {
   "cell_type": "code",
   "execution_count": 5,
   "id": "cfe60376-1aad-4dbd-b716-33d510f3e5dc",
   "metadata": {},
   "outputs": [],
   "source": [
    "def test(class_num,X_test,labels_test,model_name='vgg16_trained_cnn.hdf5',resized_pixel_size=100): \n",
    "        #Get Test Data Information, mainly for clarification on our end \n",
    "    \n",
    "        #Setting up labels for keras model\n",
    "        labels_test_model = np_utils.to_categorical(labels_test, num_classes=class_num)\n",
    "\n",
    "        # Loads trained model \n",
    "        model = tensorflow.keras.models.load_model(model_name)\n",
    "\n",
    "        #Can print model summary for illustration purposes\n",
    "        #print(model.summary())\n",
    "\n",
    "        #Evaluating model on test data \n",
    "        loss,accuracy=model.evaluate(X_test,labels_test_model)\n",
    "\n",
    "        #Generates probability matrix of label assignment \n",
    "        y_proba = model.predict(X_test)\n",
    "\n",
    "        #Grabs largest probability for each photo belonging to a certain class \n",
    "        y_classes = np.argmax(y_proba,axis=1)\n",
    "\n",
    "        #Prints confustion matrix \n",
    "        print(conf_matrix_w_acc(labels_test, y_classes))\n",
    "        \n",
    "        return accuracy,y_classes"
   ]
  },
  {
   "cell_type": "code",
   "execution_count": null,
   "id": "c17e49f5-9e21-481d-af1c-dfcfc740d393",
   "metadata": {},
   "outputs": [
    {
     "name": "stdout",
     "output_type": "stream",
     "text": [
      " 6/27 [=====>........................] - ETA: 23s - loss: 0.3091 - accuracy: 0.9323"
     ]
    }
   ],
   "source": [
    "accuracy,y_classes=test(num_of_output_classes,X_test,t_test,model_name='vgg16_trained_cnn.hdf5',resized_pixel_size=100)"
   ]
  },
  {
   "cell_type": "code",
   "execution_count": null,
   "id": "a2b99d73-08e5-4887-b8d6-ac6c3667ca2a",
   "metadata": {},
   "outputs": [],
   "source": []
  },
  {
   "cell_type": "code",
   "execution_count": null,
   "id": "b71f598b-8a33-4f24-8628-5cd187bb6566",
   "metadata": {},
   "outputs": [],
   "source": []
  }
 ],
 "metadata": {
  "kernelspec": {
   "display_name": "UFRC Python-3.10",
   "language": "python",
   "name": "python3-3.10-ufrc"
  },
  "language_info": {
   "codemirror_mode": {
    "name": "ipython",
    "version": 3
   },
   "file_extension": ".py",
   "mimetype": "text/x-python",
   "name": "python",
   "nbconvert_exporter": "python",
   "pygments_lexer": "ipython3",
   "version": "3.10.5"
  }
 },
 "nbformat": 4,
 "nbformat_minor": 5
}
