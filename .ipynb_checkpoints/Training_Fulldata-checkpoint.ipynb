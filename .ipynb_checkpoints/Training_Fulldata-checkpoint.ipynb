{
 "cells": [
  {
   "cell_type": "code",
   "execution_count": 1,
   "id": "06704925",
   "metadata": {},
   "outputs": [],
   "source": [
    "import numpy as np\n",
    "import matplotlib.pyplot as plt\n",
    "from sklearn.model_selection import train_test_split\n",
    "import cv2\n",
    "import warnings\n",
    "# importing os module \n",
    "import os\n",
    "# Imports PIL module \n",
    "from keras.models import Model\n",
    "from PIL import Image # for grabbing images\n",
    "import tensorflow as tf\n",
    "from itertools import chain #for target labels \n",
    "import keras\n",
    "from keras.utils import np_utils\n",
    "from keras.applications.vgg16 import VGG16\n",
    "from keras.layers import Dense, Activation, Convolution2D, MaxPooling2D, Flatten, Dropout\n",
    "from tensorflow.keras.optimizers import Adam\n",
    "from pathlib import Path\n",
    "import seaborn as sns\n",
    "import pandas as pd\n",
    "from sklearn.metrics import confusion_matrix\n",
    "warnings.filterwarnings(\"ignore\")"
   ]
  },
  {
   "cell_type": "code",
   "execution_count": 2,
   "id": "5f19dd2b",
   "metadata": {},
   "outputs": [],
   "source": [
    "rm -rf `find -type d -name .ipynb_checkpoints`"
   ]
  },
  {
   "cell_type": "code",
   "execution_count": 9,
   "id": "6b2109ba",
   "metadata": {
    "scrolled": true
   },
   "outputs": [
    {
     "name": "stdout",
     "output_type": "stream",
     "text": [
      "Number of classes in total:\n",
      "\n",
      "15\n",
      "\n",
      "Terrain Classes:\n",
      "\n",
      "['Airport', 'Beach', 'Bridge', 'DenseResidental', 'Desert', 'Farmland', 'Forest', 'Meadow', 'MediumResidental', 'Mountain', 'Parking', 'River', 'School', 'SparseResidential', 'Stadium']\n"
     ]
    }
   ],
   "source": [
    "# Grab all images \n",
    "\n",
    "path_of_input_image_classes=\"AID\"\n",
    "class_names = os.listdir(path_of_input_image_classes) \n",
    "class_names = [i for i in class_names if i != '.DS_Store'] # Gave me an extraneous class, delete it if it appears\n",
    "num_of_output_classes=len(class_names);\n",
    "print('Number of classes in total:\\n')\n",
    "print(num_of_output_classes);\n",
    "class_names.sort()\n",
    "print('\\nTerrain Classes:\\n')\n",
    "print(class_names)\n",
    "num_of_images_in_classes = []\n",
    "all_images = []\n",
    "\n",
    "for dir in class_names:\n",
    "    filenames = os.listdir(os.path.join(path_of_input_image_classes,dir))\n",
    "    num_of_images_in_classes.append(len(filenames)) # Stores length of each class\n",
    "    for file in filenames:\n",
    "        image = Image.open(os.path.join(path_of_input_image_classes, dir, file))\n",
    "        image = cv2.imread(os.path.join(path_of_input_image_classes, dir, file))\n",
    "        image = cv2.resize(image,(214,214))\n",
    "        all_images.append(image)"
   ]
  },
  {
   "cell_type": "code",
   "execution_count": 10,
   "id": "574cc7b2",
   "metadata": {},
   "outputs": [
    {
     "name": "stdout",
     "output_type": "stream",
     "text": [
      "(4208, 214, 214, 3)\n"
     ]
    }
   ],
   "source": [
    "Images=np.array(all_images) # this is 10,000 images x pixel num x pixel num x RGB val(3)\n",
    "print(Images.shape)"
   ]
  },
  {
   "cell_type": "code",
   "execution_count": 11,
   "id": "c8ecbec4",
   "metadata": {},
   "outputs": [],
   "source": [
    "# Make target labels\n",
    "target_labels=[];\n",
    "class_label=0;\n",
    "for i in range(num_of_output_classes): # 0 to 29 \n",
    "    num_of_images_current_class=num_of_images_in_classes[i]\n",
    "    append_num=[class_label] * num_of_images_current_class\n",
    "    target_labels.append(append_num)\n",
    "    class_label=class_label+1\n",
    "target_labels = list(chain.from_iterable(target_labels))\n",
    "target_labels=np.array(target_labels)"
   ]
  },
  {
   "cell_type": "markdown",
   "id": "99a9059a-2542-4a8a-9646-9641a3850857",
   "metadata": {},
   "source": [
    "## Split into Training and Testing"
   ]
  },
  {
   "cell_type": "code",
   "execution_count": 12,
   "id": "25fa780e-a675-456e-ba39-d6dcd311aa08",
   "metadata": {},
   "outputs": [],
   "source": [
    "# Split into training and testing \n",
    "X_train, X_test,t_train, t_test = train_test_split(Images,target_labels,\n",
    "                                   random_state=104, \n",
    "                                   test_size=0.20, \n",
    "                                   shuffle=True)\n",
    "X_train.shape, X_test.shape, t_train.shape, t_test.shape\n",
    "\n",
    "np.save(\"test_data.npy\",X_test)\n",
    "np.save(\"test_labels.npy\",t_test)"
   ]
  },
  {
   "cell_type": "markdown",
   "id": "1d940e25-7ce6-4624-950b-7a2a083e4f8b",
   "metadata": {},
   "source": [
    "## Training on all images"
   ]
  },
  {
   "cell_type": "code",
   "execution_count": 14,
   "id": "29f0a56e-0fd6-46c8-b2c4-1b417a966e35",
   "metadata": {},
   "outputs": [
    {
     "name": "stdout",
     "output_type": "stream",
     "text": [
      "Model: \"model_1\"\n",
      "_________________________________________________________________\n",
      " Layer (type)                Output Shape              Param #   \n",
      "=================================================================\n",
      " input_2 (InputLayer)        [(None, 214, 214, 3)]     0         \n",
      "                                                                 \n",
      " block1_conv1 (Conv2D)       (None, 214, 214, 64)      1792      \n",
      "                                                                 \n",
      " block1_conv2 (Conv2D)       (None, 214, 214, 64)      36928     \n",
      "                                                                 \n",
      " block1_pool (MaxPooling2D)  (None, 107, 107, 64)      0         \n",
      "                                                                 \n",
      " block2_conv1 (Conv2D)       (None, 107, 107, 128)     73856     \n",
      "                                                                 \n",
      " block2_conv2 (Conv2D)       (None, 107, 107, 128)     147584    \n",
      "                                                                 \n",
      " block2_pool (MaxPooling2D)  (None, 53, 53, 128)       0         \n",
      "                                                                 \n",
      " block3_conv1 (Conv2D)       (None, 53, 53, 256)       295168    \n",
      "                                                                 \n",
      " block3_conv2 (Conv2D)       (None, 53, 53, 256)       590080    \n",
      "                                                                 \n",
      " block3_conv3 (Conv2D)       (None, 53, 53, 256)       590080    \n",
      "                                                                 \n",
      " block3_pool (MaxPooling2D)  (None, 26, 26, 256)       0         \n",
      "                                                                 \n",
      " block4_conv1 (Conv2D)       (None, 26, 26, 512)       1180160   \n",
      "                                                                 \n",
      " block4_conv2 (Conv2D)       (None, 26, 26, 512)       2359808   \n",
      "                                                                 \n",
      " block4_conv3 (Conv2D)       (None, 26, 26, 512)       2359808   \n",
      "                                                                 \n",
      " block4_pool (MaxPooling2D)  (None, 13, 13, 512)       0         \n",
      "                                                                 \n",
      " block5_conv1 (Conv2D)       (None, 13, 13, 512)       2359808   \n",
      "                                                                 \n",
      " block5_conv2 (Conv2D)       (None, 13, 13, 512)       2359808   \n",
      "                                                                 \n",
      " block5_conv3 (Conv2D)       (None, 13, 13, 512)       2359808   \n",
      "                                                                 \n",
      " block5_pool (MaxPooling2D)  (None, 6, 6, 512)         0         \n",
      "                                                                 \n",
      " global_max_pooling2d_1 (Glo  (None, 512)              0         \n",
      " balMaxPooling2D)                                                \n",
      "                                                                 \n",
      " flatten_1 (Flatten)         (None, 512)               0         \n",
      "                                                                 \n",
      " dense_2 (Dense)             (None, 1024)              525312    \n",
      "                                                                 \n",
      " dense_3 (Dense)             (None, 15)                15375     \n",
      "                                                                 \n",
      "=================================================================\n",
      "Total params: 15,255,375\n",
      "Trainable params: 15,255,375\n",
      "Non-trainable params: 0\n",
      "_________________________________________________________________\n",
      "Training ------------\n",
      "Epoch 1/5\n"
     ]
    },
    {
     "name": "stderr",
     "output_type": "stream",
     "text": [
      "2023-03-28 23:17:54.497203: I tensorflow/stream_executor/cuda/cuda_dnn.cc:366] Loaded cuDNN version 8201\n",
      "2023-03-28 23:17:55.698783: W tensorflow/stream_executor/gpu/asm_compiler.cc:80] Couldn't get ptxas version string: INTERNAL: Running ptxas --version returned 32512\n",
      "2023-03-28 23:17:55.945805: W tensorflow/stream_executor/gpu/redzone_allocator.cc:314] INTERNAL: ptxas exited with non-zero error code 32512, output: \n",
      "Relying on driver to perform ptx compilation. \n",
      "Modify $PATH to customize ptxas location.\n",
      "This message will be only logged once.\n",
      "2023-03-28 23:17:57.568340: I tensorflow/stream_executor/cuda/cuda_blas.cc:1774] TensorFloat-32 will be used for the matrix multiplication. This will only be logged once.\n"
     ]
    },
    {
     "name": "stdout",
     "output_type": "stream",
     "text": [
      "106/106 [==============================] - 11s 49ms/step - loss: 1.1696 - accuracy: 0.6129\n",
      "Epoch 2/5\n",
      "106/106 [==============================] - 5s 45ms/step - loss: 0.4112 - accuracy: 0.8678\n",
      "Epoch 3/5\n",
      "106/106 [==============================] - 5s 45ms/step - loss: 0.1923 - accuracy: 0.9364\n",
      "Epoch 4/5\n",
      "106/106 [==============================] - 5s 45ms/step - loss: 0.1406 - accuracy: 0.9563\n",
      "Epoch 5/5\n",
      "106/106 [==============================] - 5s 45ms/step - loss: 0.1580 - accuracy: 0.9424\n"
     ]
    },
    {
     "data": {
      "image/png": "[encoded data removed]",
      "text/plain": [
       "<Figure size 432x288 with 1 Axes>"
      ]
     },
     "metadata": {
      "needs_background": "light"
     },
     "output_type": "display_data"
    }
   ],
   "source": [
    "# train VGG16 CNN\n",
    "train_transfer_learning_CNN(num_of_output_classes,X_train,t_train, img_size=214, epochs=5, learning_rate=1e-4)"
   ]
  },
  {
   "cell_type": "code",
   "execution_count": 15,
   "id": "cc92419b-6061-45b5-8743-609f861e2492",
   "metadata": {},
   "outputs": [],
   "source": [
    "# Print confusion matrix\n",
    "def conf_matrix_w_acc(y_test, labels):\n",
    "    # Evaluate trained model in validation set\n",
    "    cm = confusion_matrix(y_test, labels)\n",
    "    acc =np.diagonal(cm).sum()/ cm.sum()\n",
    "    # acc = accuracy_score(y_test,labels)\n",
    "    fig, ax = plt.subplots()\n",
    "    tick_marks = np.arange(len(class_names))\n",
    "    plt.xticks(tick_marks, class_names)\n",
    "    plt.yticks(tick_marks, class_names)\n",
    "    # create heatmap\n",
    "    sns.heatmap(pd.DataFrame(cm), annot=True ,fmt='g', xticklabels = class_names, yticklabels = class_names)\n",
    "    ax.xaxis.set_label_position(\"top\")\n",
    "    plt.tight_layout()\n",
    "    plt.title('Confusion Matrix (Accuracy = %f)' % acc, y=1.1)\n",
    "    plt.ylabel('Actual label')\n",
    "    plt.xlabel('Predicted label')"
   ]
  },
  {
   "cell_type": "code",
   "execution_count": 16,
   "id": "14cd71d8-88e3-4c3a-9b8e-c406e71d8a4d",
   "metadata": {},
   "outputs": [],
   "source": [
    "def test(class_num,X_test,labels_test,model_name='vgg16_trained_cnn.hdf5',resized_pixel_size=214): \n",
    "        #Get Test Data Information, mainly for clarification on our end \n",
    "    \n",
    " \n",
    "        #Reshpaing for input into model \n",
    "        X_test = X_test/255.\n",
    "        \n",
    "        #Setting up labels for keras model\n",
    "        labels_test_model = np_utils.to_categorical(labels_test, num_classes=class_num)\n",
    "\n",
    "        # Loads trained model \n",
    "        model = keras.models.load_model(model_name)\n",
    "\n",
    "        #Can print model summary for illustration purposes\n",
    "        #print(model.summary())\n",
    "\n",
    "        #Evaluating model on test data \n",
    "        loss,accuracy=model.evaluate(X_test,labels_test_model)\n",
    "\n",
    "        #Generates probability matrix of label assignment \n",
    "        y_proba = model.predict(X_test)\n",
    "\n",
    "        #Grabs largest probability for each photo belonging to a certain class \n",
    "        y_classes = np.argmax(y_proba,axis=1)\n",
    "\n",
    "        #Prints confustion matrix \n",
    "        print(conf_matrix_w_acc(labels_test, y_classes))\n",
    "        \n",
    "        return accuracy,y_classes"
   ]
  },
  {
   "cell_type": "markdown",
   "id": "891bfb0e-957d-499e-b9e5-c406a9dd0f76",
   "metadata": {},
   "source": [
    "## Test Performance "
   ]
  },
  {
   "cell_type": "code",
   "execution_count": 17,
   "id": "9a78ea78-ead8-482b-bd29-0f95945f7747",
   "metadata": {},
   "outputs": [
    {
     "name": "stdout",
     "output_type": "stream",
     "text": [
      "27/27 [==============================] - 1s 28ms/step - loss: 0.2183 - accuracy: 0.9311\n",
      "None\n"
     ]
    },
    {
     "data": {
      "image/png": "[encoded data removed]",
      "text/plain": [
       "<Figure size 432x288 with 2 Axes>"
      ]
     },
     "metadata": {
      "needs_background": "light"
     },
     "output_type": "display_data"
    }
   ],
   "source": [
    "accuracy,y_classes=test(num_of_output_classes,X_test,t_test,model_name='vgg16_trained_cnn.hdf5',resized_pixel_size=214)"
   ]
  },
  {
   "cell_type": "markdown",
   "id": "826744ef-1386-4ef2-8041-82fe059832ba",
   "metadata": {},
   "source": [
    "## Training performance when randomly pulling out 20% of the data"
   ]
  },
  {
   "cell_type": "code",
   "execution_count": null,
   "id": "5bd0f25f-1625-4820-b071-c91a85e32562",
   "metadata": {},
   "outputs": [
    {
     "name": "stdout",
     "output_type": "stream",
     "text": [
      "New Training shape\n",
      "(2692,)\n",
      "(2692, 214, 214, 3)\n",
      "Model: \"model_2\"\n",
      "_________________________________________________________________\n",
      " Layer (type)                Output Shape              Param #   \n",
      "=================================================================\n",
      " input_3 (InputLayer)        [(None, 214, 214, 3)]     0         \n",
      "                                                                 \n",
      " block1_conv1 (Conv2D)       (None, 214, 214, 64)      1792      \n",
      "                                                                 \n",
      " block1_conv2 (Conv2D)       (None, 214, 214, 64)      36928     \n",
      "                                                                 \n",
      " block1_pool (MaxPooling2D)  (None, 107, 107, 64)      0         \n",
      "                                                                 \n",
      " block2_conv1 (Conv2D)       (None, 107, 107, 128)     73856     \n",
      "                                                                 \n",
      " block2_conv2 (Conv2D)       (None, 107, 107, 128)     147584    \n",
      "                                                                 \n",
      " block2_pool (MaxPooling2D)  (None, 53, 53, 128)       0         \n",
      "                                                                 \n",
      " block3_conv1 (Conv2D)       (None, 53, 53, 256)       295168    \n",
      "                                                                 \n",
      " block3_conv2 (Conv2D)       (None, 53, 53, 256)       590080    \n",
      "                                                                 \n",
      " block3_conv3 (Conv2D)       (None, 53, 53, 256)       590080    \n",
      "                                                                 \n",
      " block3_pool (MaxPooling2D)  (None, 26, 26, 256)       0         \n",
      "                                                                 \n",
      " block4_conv1 (Conv2D)       (None, 26, 26, 512)       1180160   \n",
      "                                                                 \n",
      " block4_conv2 (Conv2D)       (None, 26, 26, 512)       2359808   \n",
      "                                                                 \n",
      " block4_conv3 (Conv2D)       (None, 26, 26, 512)       2359808   \n",
      "                                                                 \n",
      " block4_pool (MaxPooling2D)  (None, 13, 13, 512)       0         \n",
      "                                                                 \n",
      " block5_conv1 (Conv2D)       (None, 13, 13, 512)       2359808   \n",
      "                                                                 \n",
      " block5_conv2 (Conv2D)       (None, 13, 13, 512)       2359808   \n",
      "                                                                 \n",
      " block5_conv3 (Conv2D)       (None, 13, 13, 512)       2359808   \n",
      "                                                                 \n",
      " block5_pool (MaxPooling2D)  (None, 6, 6, 512)         0         \n",
      "                                                                 \n",
      " global_max_pooling2d_2 (Glo  (None, 512)              0         \n",
      " balMaxPooling2D)                                                \n",
      "                                                                 \n",
      " flatten_2 (Flatten)         (None, 512)               0         \n",
      "                                                                 \n",
      " dense_4 (Dense)             (None, 1024)              525312    \n",
      "                                                                 \n",
      " dense_5 (Dense)             (None, 15)                15375     \n",
      "                                                                 \n",
      "=================================================================\n",
      "Total params: 15,255,375\n",
      "Trainable params: 15,255,375\n",
      "Non-trainable params: 0\n",
      "_________________________________________________________________\n",
      "Training ------------\n"
     ]
    }
   ],
   "source": [
    "per_keep=.8 #keep 80% of data\n",
    "X_train_rand=X_train[0:int(per_keep*X_train.shape[0]),:,:,:]\n",
    "t_train_rand=t_train[0:int(per_keep*t_train.shape[0])]\n",
    "print(\"New Training shape\")\n",
    "print(t_train_rand.shape)\n",
    "print(X_train_rand.shape)\n",
    "\n",
    "train_transfer_learning_CNN(num_of_output_classes,X_train_rand,t_train_rand, img_size=214, epochs=5, learning_rate=1e-4)"
   ]
  },
  {
   "cell_type": "code",
   "execution_count": null,
   "id": "5a5b4fdb-ba4d-4307-bf92-ff9d718cc86a",
   "metadata": {},
   "outputs": [],
   "source": []
  }
 ],
 "metadata": {
  "kernelspec": {
   "display_name": "Tensorflow-2.7.0",
   "language": "python",
   "name": "tensorflow-2.7.0"
  },
  "language_info": {
   "codemirror_mode": {
    "name": "ipython",
    "version": 3
   },
   "file_extension": ".py",
   "mimetype": "text/x-python",
   "name": "python",
   "nbconvert_exporter": "python",
   "pygments_lexer": "ipython3",
   "version": "3.9.12"
  }
 },
 "nbformat": 4,
 "nbformat_minor": 5
}
