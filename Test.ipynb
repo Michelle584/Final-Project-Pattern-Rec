{
 "cells": [
  {
   "cell_type": "code",
   "execution_count": 1,
   "id": "41ae49cf-d6b1-41e1-b696-315bead4e62a",
   "metadata": {},
   "outputs": [],
   "source": [
    "import numpy as np\n",
    "import matplotlib.pyplot as plt\n",
    "from sklearn.model_selection import train_test_split\n",
    "import cv2\n",
    "import warnings\n",
    "# importing os module \n",
    "import os\n",
    "# Imports PIL module \n",
    "from keras.models import Model\n",
    "from PIL import Image # for grabbing images\n",
    "import tensorflow as tf\n",
    "from itertools import chain #for target labels \n",
    "import keras\n",
    "from keras.utils import np_utils\n",
    "from keras.applications.vgg16 import VGG16\n",
    "from keras.layers import Dense, Activation, Convolution2D, MaxPooling2D, Flatten, Dropout\n",
    "from tensorflow.keras.optimizers import Adam\n",
    "from pathlib import Path\n",
    "import seaborn as sns\n",
    "import pandas as pd\n",
    "from sklearn.metrics import confusion_matrix\n",
    "warnings.filterwarnings(\"ignore\")"
   ]
  },
  {
   "cell_type": "code",
   "execution_count": 2,
   "id": "d219ce06-1f2a-457e-a3eb-81acef4433d6",
   "metadata": {},
   "outputs": [],
   "source": [
    "X_test=np.load(\"test_data.npy\");\n",
    "t_test=np.load(\"test_labels.npy\");\n",
    "num_of_output_classes=len(np.unique(t_test))"
   ]
  },
  {
   "cell_type": "code",
   "execution_count": null,
   "id": "67035b78-379b-44b6-8799-ad63dbb6ded8",
   "metadata": {},
   "outputs": [],
   "source": []
  },
  {
   "cell_type": "code",
   "execution_count": 3,
   "id": "59050d87-0ca0-4d0e-ba45-65223e22b02f",
   "metadata": {},
   "outputs": [],
   "source": [
    "def conf_matrix_w_acc(y_test, labels):\n",
    "    # Evaluate trained model in validation set\n",
    "    cm = confusion_matrix(y_test, labels)\n",
    "    acc =np.diagonal(cm).sum()/ cm.sum()\n",
    "    # acc = accuracy_score(y_test,labels)\n",
    "    fig, ax = plt.subplots()\n",
    "    tick_marks = np.arange(len(class_names))\n",
    "    plt.xticks(tick_marks, class_names)\n",
    "    plt.yticks(tick_marks, class_names)\n",
    "    # create heatmap\n",
    "    sns.heatmap(pd.DataFrame(cm), annot=True ,fmt='g', xticklabels = class_names, yticklabels = class_names)\n",
    "    ax.xaxis.set_label_position(\"top\")\n",
    "    plt.tight_layout()\n",
    "    plt.title('Confusion Matrix (Accuracy = %f)' % acc, y=1.1)\n",
    "    plt.ylabel('Actual label')\n",
    "    plt.xlabel('Predicted label')"
   ]
  },
  {
   "cell_type": "code",
   "execution_count": 4,
   "id": "cfe60376-1aad-4dbd-b716-33d510f3e5dc",
   "metadata": {},
   "outputs": [],
   "source": [
    "def test(class_num,X_test,labels_test,model_name='vgg16_trained_cnn.hdf5',resized_pixel_size=214): \n",
    "        #Get Test Data Information, mainly for clarification on our end \n",
    "    \n",
    " \n",
    "        #Reshpaing for input into model \n",
    "        X_test = X_test/255.\n",
    "        \n",
    "        #Setting up labels for keras model\n",
    "        labels_test_model = np_utils.to_categorical(labels_test, num_classes=class_num)\n",
    "\n",
    "        # Loads trained model \n",
    "        model = keras.models.load_model(model_name)\n",
    "\n",
    "        #Can print model summary for illustration purposes\n",
    "        #print(model.summary())\n",
    "\n",
    "        #Evaluating model on test data \n",
    "        loss,accuracy=model.evaluate(X_test,labels_test_model)\n",
    "\n",
    "        #Generates probability matrix of label assignment \n",
    "        y_proba = model.predict(X_test)\n",
    "\n",
    "        #Grabs largest probability for each photo belonging to a certain class \n",
    "        y_classes = np.argmax(y_proba,axis=1)\n",
    "\n",
    "        #Prints confustion matrix \n",
    "        print(conf_matrix_w_acc(labels_test, y_classes))\n",
    "        \n",
    "        return accuracy,y_classes"
   ]
  },
  {
   "cell_type": "code",
   "execution_count": null,
   "id": "c17e49f5-9e21-481d-af1c-dfcfc740d393",
   "metadata": {},
   "outputs": [],
   "source": [
    "accuracy,y_classes=test(num_of_output_classes,X_test,t_test,model_name='vgg16_trained_cnn.hdf5',resized_pixel_size=214)"
   ]
  },
  {
   "cell_type": "code",
   "execution_count": null,
   "id": "a2b99d73-08e5-4887-b8d6-ac6c3667ca2a",
   "metadata": {},
   "outputs": [],
   "source": []
  }
 ],
 "metadata": {
  "kernelspec": {
   "display_name": "Tensorflow-2.7.0",
   "language": "python",
   "name": "tensorflow-2.7.0"
  },
  "language_info": {
   "codemirror_mode": {
    "name": "ipython",
    "version": 3
   },
   "file_extension": ".py",
   "mimetype": "text/x-python",
   "name": "python",
   "nbconvert_exporter": "python",
   "pygments_lexer": "ipython3",
   "version": "3.9.12"
  }
 },
 "nbformat": 4,
 "nbformat_minor": 5
}
